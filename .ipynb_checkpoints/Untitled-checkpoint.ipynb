{
 "cells": [
  {
   "cell_type": "code",
   "execution_count": 95,
   "id": "918cb0ca-b1d4-4716-a106-af4f4a1f47a3",
   "metadata": {},
   "outputs": [],
   "source": [
    "def test_func():\n",
    "    \"\"\"\n",
    "    Test docstring.\n",
    "    \"\"\"\n",
    "    return \"lol\""
   ]
  },
  {
   "cell_type": "code",
   "execution_count": 92,
   "id": "a67cc968-1127-409b-ae40-5c369696327e",
   "metadata": {},
   "outputs": [],
   "source": [
    "def check_doc():\n",
    "    def inner(fn):\n",
    "        if len(\" \".join(fn.__doc__.split())) >= 50:\n",
    "            return True\n",
    "        else:\n",
    "            return False\n",
    "    return inner"
   ]
  },
  {
   "cell_type": "code",
   "execution_count": 93,
   "id": "dc71f6bf-bb5f-4fe6-848c-49cbb342a047",
   "metadata": {},
   "outputs": [],
   "source": [
    "doc_test = check_doc()"
   ]
  },
  {
   "cell_type": "code",
   "execution_count": 94,
   "id": "502e413d-daa8-4cf1-9c79-87b1920a3837",
   "metadata": {},
   "outputs": [
    {
     "data": {
      "text/plain": [
       "True"
      ]
     },
     "execution_count": 94,
     "metadata": {},
     "output_type": "execute_result"
    }
   ],
   "source": [
    "doc_test(test_func)"
   ]
  },
  {
   "cell_type": "code",
   "execution_count": null,
   "id": "70aa2542-b699-45b0-a6fc-7bcf68eef0db",
   "metadata": {},
   "outputs": [],
   "source": [
    "def fibonacci():\n",
    "    x_1 = 0\n",
    "    x_2 = 0\n",
    "    \n",
    "    def fib():\n",
    "        nonlocal x_1, x_2\n",
    "        if x_1 == 0 and x_2 == 0:\n",
    "            x_1 = 1\n",
    "        else:\n",
    "            x_1, x_2 = x_1 + x_2, x_1\n",
    "        \n",
    "        return x_1\n",
    "    \n",
    "    return fib\n",
    "\n",
    "f = fibonacci()"
   ]
  },
  {
   "cell_type": "code",
   "execution_count": null,
   "id": "caf68fab-3aca-4f9a-a6fa-1d0b3f0d9fb0",
   "metadata": {},
   "outputs": [],
   "source": [
    "f()"
   ]
  },
  {
   "cell_type": "code",
   "execution_count": null,
   "id": "f8123314-afa8-4e41-a042-abac8578f6d4",
   "metadata": {},
   "outputs": [],
   "source": []
  },
  {
   "cell_type": "code",
   "execution_count": 13,
   "id": "dc42c190-dc82-40f8-80a1-b321637c3451",
   "metadata": {},
   "outputs": [
    {
     "name": "stdout",
     "output_type": "stream",
     "text": [
      "{'add': 1, 'mul': 2, 'div': 3}\n"
     ]
    }
   ],
   "source": [
    "def mul(a, b, c):\n",
    "    return a * b * c\n",
    "\n",
    "\n",
    "def add(a, b):\n",
    "    return a + b\n",
    "\n",
    "def div(a, b):\n",
    "    return a / b\n",
    "\n",
    "counters = dict()\n",
    "\n",
    "def counter(fn):\n",
    "    cnt = 0  # initially fn has been run zero times\n",
    "    \n",
    "    def inner(*args, **kwargs):\n",
    "        nonlocal cnt\n",
    "        cnt = cnt + 1\n",
    "        counters[fn.__name__] = cnt  # counters is global\n",
    "        return fn(*args, **kwargs)\n",
    "    \n",
    "    return inner\n",
    "\n",
    "\n",
    "counted_add = counter(add)\n",
    "counted_mul = counter(mul)\n",
    "counted_div = counter(div)\n",
    "\n",
    "counted_add(1, 2)\n",
    "counted_mul(1, 2, 'a')\n",
    "counted_mul(1, 2, 'a')\n",
    "counted_div(1, 2)\n",
    "counted_div(1, 2)\n",
    "counted_div(1, 2)\n",
    "\n",
    "print(counters)"
   ]
  },
  {
   "cell_type": "code",
   "execution_count": 14,
   "id": "8b55f981-1d2d-483f-90b4-729fb71d82cb",
   "metadata": {},
   "outputs": [
    {
     "name": "stdout",
     "output_type": "stream",
     "text": [
      "{'add': 1, 'mul': 2, 'div': 3}\n"
     ]
    }
   ],
   "source": [
    "def mul(a, b, c):\n",
    "    return a * b * c\n",
    "\n",
    "\n",
    "def add(a, b):\n",
    "    return a + b\n",
    "\n",
    "def div(a, b):\n",
    "    return a / b\n",
    "\n",
    "def counter(fn, counters):\n",
    "    cnt = 0  # initially fn has been run zero times\n",
    "    \n",
    "    def inner(*args, **kwargs):\n",
    "        nonlocal cnt\n",
    "        cnt = cnt + 1\n",
    "        counters[fn.__name__] = cnt\n",
    "        return fn(*args, **kwargs)\n",
    "    \n",
    "    return inner\n",
    "\n",
    "\n",
    "counters = dict()\n",
    "counted_add = counter(add, counters)\n",
    "counted_mul = counter(mul, counters)\n",
    "counted_div = counter(div, counters)\n",
    "\n",
    "counted_add(1, 2)\n",
    "counted_mul(1, 2, 'a')\n",
    "counted_mul(1, 2, 'a')\n",
    "counted_div(1, 2)\n",
    "counted_div(1, 2)\n",
    "counted_div(1, 2)\n",
    "\n",
    "print(counters)"
   ]
  },
  {
   "cell_type": "code",
   "execution_count": null,
   "id": "86086d9e-d2dd-4191-a6be-73afea939685",
   "metadata": {},
   "outputs": [],
   "source": []
  },
  {
   "cell_type": "code",
   "execution_count": null,
   "id": "5bff88ec-3fdf-442b-8eab-78576e1cdc4e",
   "metadata": {},
   "outputs": [],
   "source": []
  },
  {
   "cell_type": "code",
   "execution_count": null,
   "id": "6e350deb-d0a0-4fa4-86ae-c16345178c2e",
   "metadata": {},
   "outputs": [],
   "source": []
  }
 ],
 "metadata": {
  "kernelspec": {
   "display_name": "Python 3",
   "language": "python",
   "name": "python3"
  },
  "language_info": {
   "codemirror_mode": {
    "name": "ipython",
    "version": 3
   },
   "file_extension": ".py",
   "mimetype": "text/x-python",
   "name": "python",
   "nbconvert_exporter": "python",
   "pygments_lexer": "ipython3",
   "version": "3.9.5"
  }
 },
 "nbformat": 4,
 "nbformat_minor": 5
}
